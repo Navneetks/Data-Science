{
 "cells": [
  {
   "cell_type": "code",
   "execution_count": 1,
   "metadata": {},
   "outputs": [],
   "source": [
    "import pandas as pd\n",
    "import numpy as np\n",
    "import matplotlib.pyplot as plt\n",
    "import statistics as st\n"
   ]
  },
  {
   "cell_type": "code",
   "execution_count": 2,
   "metadata": {},
   "outputs": [],
   "source": [
    "filepath=r'C:\\Users\\user\\Documents\\prices.csv';\n",
    "file=pd.read_csv (filepath,delimiter=',', encoding=\"utf-8-sig\");"
   ]
  },
  {
   "cell_type": "code",
   "execution_count": 3,
   "metadata": {
    "scrolled": true
   },
   "outputs": [
    {
     "name": "stdout",
     "output_type": "stream",
     "text": [
      "<class 'pandas.core.frame.DataFrame'>\n",
      "RangeIndex: 12 entries, 0 to 11\n",
      "Data columns (total 7 columns):\n",
      " #   Column        Non-Null Count  Dtype  \n",
      "---  ------        --------------  -----  \n",
      " 0   index         12 non-null     int64  \n",
      " 1   DATE          12 non-null     object \n",
      " 2   EQUITY INDEX  12 non-null     float64\n",
      " 3   MONTH         12 non-null     object \n",
      " 4   DATE1         12 non-null     object \n",
      " 5   GOLD1         12 non-null     float64\n",
      " 6   CRUDE_INDEX   12 non-null     float64\n",
      "dtypes: float64(3), int64(1), object(3)\n",
      "memory usage: 592.0+ bytes\n",
      "DATE\n"
     ]
    }
   ],
   "source": [
    "file.info()\n",
    "print(file.columns[1])\n"
   ]
  },
  {
   "cell_type": "code",
   "execution_count": 4,
   "metadata": {},
   "outputs": [],
   "source": [
    "ts= pd.read_csv(r'C:\\Users\\user\\Documents\\prices.csv',parse_dates=['MONTH'],index_col=\"MONTH\");"
   ]
  },
  {
   "cell_type": "code",
   "execution_count": 5,
   "metadata": {},
   "outputs": [
    {
     "name": "stdout",
     "output_type": "stream",
     "text": [
      "<class 'pandas.core.frame.DataFrame'>\n",
      "Index: 12 entries, JAN to DECEMBER\n",
      "Data columns (total 6 columns):\n",
      " #   Column        Non-Null Count  Dtype  \n",
      "---  ------        --------------  -----  \n",
      " 0   index         12 non-null     int64  \n",
      " 1   DATE          12 non-null     object \n",
      " 2   EQUITY INDEX  12 non-null     float64\n",
      " 3   DATE1         12 non-null     object \n",
      " 4   GOLD1         12 non-null     float64\n",
      " 5   CRUDE_INDEX   12 non-null     float64\n",
      "dtypes: float64(3), int64(1), object(2)\n",
      "memory usage: 528.0+ bytes\n"
     ]
    }
   ],
   "source": [
    "ts.info()"
   ]
  },
  {
   "cell_type": "code",
   "execution_count": 6,
   "metadata": {},
   "outputs": [
    {
     "data": {
      "text/plain": [
       "<matplotlib.axes._subplots.AxesSubplot at 0x7f190b0>"
      ]
     },
     "execution_count": 6,
     "metadata": {},
     "output_type": "execute_result"
    },
    {
     "data": {
      "image/png": "[encoded data removed]",
      "text/plain": [
       "<Figure size 432x288 with 1 Axes>"
      ]
     },
     "metadata": {
      "needs_background": "light"
     },
     "output_type": "display_data"
    }
   ],
   "source": [
    "ts.plot()\n"
   ]
  },
  {
   "cell_type": "code",
   "execution_count": 170,
   "metadata": {},
   "outputs": [
    {
     "data": {
      "text/html": [
       "<div>\n",
       "<style scoped>\n",
       "    .dataframe tbody tr th:only-of-type {\n",
       "        vertical-align: middle;\n",
       "    }\n",
       "\n",
       "    .dataframe tbody tr th {\n",
       "        vertical-align: top;\n",
       "    }\n",
       "\n",
       "    .dataframe thead th {\n",
       "        text-align: right;\n",
       "    }\n",
       "</style>\n",
       "<table border=\"1\" class=\"dataframe\">\n",
       "  <thead>\n",
       "    <tr style=\"text-align: right;\">\n",
       "      <th></th>\n",
       "      <th>index</th>\n",
       "      <th>DATE</th>\n",
       "      <th>GOLD</th>\n",
       "      <th>CRUDE</th>\n",
       "      <th>EQUITY INDEX</th>\n",
       "      <th>MONTH</th>\n",
       "      <th>DATE1</th>\n",
       "      <th>GOLD1</th>\n",
       "      <th>CRUDE_PRICE</th>\n",
       "    </tr>\n",
       "  </thead>\n",
       "  <tbody>\n",
       "    <tr>\n",
       "      <th>0</th>\n",
       "      <td>1</td>\n",
       "      <td>22-01-2019</td>\n",
       "      <td>3.19</td>\n",
       "      <td>4.86</td>\n",
       "      <td>6.0</td>\n",
       "      <td>JAN</td>\n",
       "      <td>02-05-2019</td>\n",
       "      <td>3.19</td>\n",
       "      <td>3.19</td>\n",
       "    </tr>\n",
       "    <tr>\n",
       "      <th>1</th>\n",
       "      <td>2</td>\n",
       "      <td>22-02-2019</td>\n",
       "      <td>2.85</td>\n",
       "      <td>8.04</td>\n",
       "      <td>3.49</td>\n",
       "      <td>FEB</td>\n",
       "      <td>04-03-2019</td>\n",
       "      <td>2.85</td>\n",
       "      <td>2.85</td>\n",
       "    </tr>\n",
       "    <tr>\n",
       "      <th>2</th>\n",
       "      <td>3</td>\n",
       "      <td>23-03-2019</td>\n",
       "      <td>3.85</td>\n",
       "      <td>4.35</td>\n",
       "      <td>2.04</td>\n",
       "      <td>MARCH</td>\n",
       "      <td>01-07-2019</td>\n",
       "      <td>3.85</td>\n",
       "      <td>3.85</td>\n",
       "    </tr>\n",
       "    <tr>\n",
       "      <th>3</th>\n",
       "      <td>4</td>\n",
       "      <td>22-04-2019</td>\n",
       "      <td>1.23</td>\n",
       "      <td>7.51</td>\n",
       "      <td>1.72</td>\n",
       "      <td>APRIL</td>\n",
       "      <td>11-11-2019</td>\n",
       "      <td>1.23</td>\n",
       "      <td>1.23</td>\n",
       "    </tr>\n",
       "    <tr>\n",
       "      <th>4</th>\n",
       "      <td>5</td>\n",
       "      <td>24-05-2019</td>\n",
       "      <td>0.35</td>\n",
       "      <td>2.55</td>\n",
       "      <td>1.81</td>\n",
       "      <td>MAY</td>\n",
       "      <td>11-07-2019</td>\n",
       "      <td>0.35</td>\n",
       "      <td>0.35</td>\n",
       "    </tr>\n",
       "    <tr>\n",
       "      <th>5</th>\n",
       "      <td>6</td>\n",
       "      <td>24-05-2019</td>\n",
       "      <td>5.34</td>\n",
       "      <td>10.58</td>\n",
       "      <td>1.31</td>\n",
       "      <td>JUNE</td>\n",
       "      <td>11-11-2019</td>\n",
       "      <td>5.34</td>\n",
       "      <td>5.34</td>\n",
       "    </tr>\n",
       "    <tr>\n",
       "      <th>6</th>\n",
       "      <td>7</td>\n",
       "      <td>24-06-2019</td>\n",
       "      <td>3.02</td>\n",
       "      <td>2.88</td>\n",
       "      <td>6.89</td>\n",
       "      <td>JULY</td>\n",
       "      <td>12-12-2019</td>\n",
       "      <td>3.02</td>\n",
       "      <td>3.02</td>\n",
       "    </tr>\n",
       "    <tr>\n",
       "      <th>7</th>\n",
       "      <td>8</td>\n",
       "      <td>24-07-2019</td>\n",
       "      <td>9.8</td>\n",
       "      <td>6.2</td>\n",
       "      <td>6.58</td>\n",
       "      <td>AUGUST</td>\n",
       "      <td>24-01-2019</td>\n",
       "      <td>9.8</td>\n",
       "      <td>9.8</td>\n",
       "    </tr>\n",
       "    <tr>\n",
       "      <th>8</th>\n",
       "      <td>9</td>\n",
       "      <td>24-08-2019</td>\n",
       "      <td>0.94</td>\n",
       "      <td>4.11</td>\n",
       "      <td>3.93</td>\n",
       "      <td>SEPTEMBER</td>\n",
       "      <td>22-02-2019</td>\n",
       "      <td>0.94</td>\n",
       "      <td>0.94</td>\n",
       "    </tr>\n",
       "    <tr>\n",
       "      <th>9</th>\n",
       "      <td>10</td>\n",
       "      <td>24-10-2019</td>\n",
       "      <td>1.43</td>\n",
       "      <td>5.47</td>\n",
       "      <td>1.79</td>\n",
       "      <td>OCTOBER</td>\n",
       "      <td>24-12-2019</td>\n",
       "      <td>1.43</td>\n",
       "      <td>1.43</td>\n",
       "    </tr>\n",
       "    <tr>\n",
       "      <th>10</th>\n",
       "      <td>11</td>\n",
       "      <td>24-11-2019</td>\n",
       "      <td>1.08</td>\n",
       "      <td>4.88</td>\n",
       "      <td>2.97</td>\n",
       "      <td>NOVEMBER</td>\n",
       "      <td>22-11-2019</td>\n",
       "      <td>1.08</td>\n",
       "      <td>1.08</td>\n",
       "    </tr>\n",
       "    <tr>\n",
       "      <th>11</th>\n",
       "      <td>12</td>\n",
       "      <td>24-12-2019</td>\n",
       "      <td>0.55</td>\n",
       "      <td>3.22</td>\n",
       "      <td>1.77</td>\n",
       "      <td>DECEMBER</td>\n",
       "      <td>30-04-2019</td>\n",
       "      <td>0.55</td>\n",
       "      <td>0.55</td>\n",
       "    </tr>\n",
       "  </tbody>\n",
       "</table>\n",
       "</div>"
      ],
      "text/plain": [
       "   index        DATE GOLD  CRUDE  EQUITY INDEX      MONTH       DATE1 GOLD1  \\\n",
       "0      1  22-01-2019  3.19   4.86          6.0        JAN  02-05-2019  3.19   \n",
       "1      2  22-02-2019  2.85   8.04         3.49        FEB  04-03-2019  2.85   \n",
       "2      3  23-03-2019  3.85   4.35         2.04      MARCH  01-07-2019  3.85   \n",
       "3      4  22-04-2019  1.23   7.51         1.72      APRIL  11-11-2019  1.23   \n",
       "4      5  24-05-2019  0.35   2.55         1.81        MAY  11-07-2019  0.35   \n",
       "5      6  24-05-2019  5.34  10.58         1.31       JUNE  11-11-2019  5.34   \n",
       "6      7  24-06-2019  3.02   2.88         6.89      JULY   12-12-2019  3.02   \n",
       "7      8  24-07-2019   9.8    6.2         6.58     AUGUST  24-01-2019   9.8   \n",
       "8      9  24-08-2019  0.94   4.11         3.93  SEPTEMBER  22-02-2019  0.94   \n",
       "9     10  24-10-2019  1.43   5.47         1.79    OCTOBER  24-12-2019  1.43   \n",
       "10    11  24-11-2019  1.08   4.88         2.97   NOVEMBER  22-11-2019  1.08   \n",
       "11    12  24-12-2019  0.55   3.22         1.77   DECEMBER  30-04-2019  0.55   \n",
       "\n",
       "   CRUDE_PRICE  \n",
       "0         3.19  \n",
       "1         2.85  \n",
       "2         3.85  \n",
       "3         1.23  \n",
       "4         0.35  \n",
       "5         5.34  \n",
       "6         3.02  \n",
       "7          9.8  \n",
       "8         0.94  \n",
       "9         1.43  \n",
       "10        1.08  \n",
       "11        0.55  "
      ]
     },
     "execution_count": 170,
     "metadata": {},
     "output_type": "execute_result"
    }
   ],
   "source": [
    "file.astype('str')"
   ]
  },
  {
   "cell_type": "code",
   "execution_count": 10,
   "metadata": {},
   "outputs": [
    {
     "data": {
      "text/plain": [
       "(6,\n",
       "    index        DATE  EQUITY INDEX   MONTH       DATE1  GOLD1  CRUDE_INDEX\n",
       " 0      1  22-01-2019             6     JAN  02-05-2019   3.19         3.19\n",
       " 6      7  24-06-2019             6   JULY   12-12-2019   3.02         3.02\n",
       " 7      8  24-07-2019             6  AUGUST  24-01-2019   9.80         9.80)"
      ]
     },
     "execution_count": 10,
     "metadata": {},
     "output_type": "execute_result"
    }
   ],
   "source": [
    "max(file.groupby(['EQUITY INDEX']))"
   ]
  },
  {
   "cell_type": "code",
   "execution_count": 11,
   "metadata": {},
   "outputs": [
    {
     "data": {
      "text/plain": [
       "(9.8,\n",
       "    index        DATE  EQUITY INDEX   MONTH       DATE1  GOLD1  CRUDE_INDEX\n",
       " 7      8  24-07-2019             6  AUGUST  24-01-2019    9.8          9.8)"
      ]
     },
     "execution_count": 11,
     "metadata": {},
     "output_type": "execute_result"
    }
   ],
   "source": [
    "max(file.groupby(['GOLD1']))"
   ]
  },
  {
   "cell_type": "code",
   "execution_count": 13,
   "metadata": {},
   "outputs": [
    {
     "data": {
      "text/plain": [
       "(9.8,\n",
       "    index        DATE  EQUITY INDEX   MONTH       DATE1  GOLD1  CRUDE_INDEX\n",
       " 7      8  24-07-2019             6  AUGUST  24-01-2019    9.8          9.8)"
      ]
     },
     "execution_count": 13,
     "metadata": {},
     "output_type": "execute_result"
    }
   ],
   "source": [
    "max(file.groupby(['CRUDE_INDEX']))"
   ]
  },
  {
   "cell_type": "code",
   "execution_count": 14,
   "metadata": {},
   "outputs": [
    {
     "data": {
      "text/plain": [
       "(1,\n",
       "     index        DATE  EQUITY INDEX     MONTH       DATE1  GOLD1  CRUDE_INDEX\n",
       " 3       4  22-04-2019             1     APRIL  11-11-2019   1.23         1.23\n",
       " 4       5  24-05-2019             1       MAY  11-07-2019   0.35         0.35\n",
       " 5       6  24-05-2019             1      JUNE  11-11-2019   5.34         5.34\n",
       " 9      10  24-10-2019             1   OCTOBER  24-12-2019   1.43         1.43\n",
       " 11     12  24-12-2019             1  DECEMBER  30-04-2019   0.55         0.55)"
      ]
     },
     "execution_count": 14,
     "metadata": {},
     "output_type": "execute_result"
    }
   ],
   "source": [
    "min(file.groupby(['EQUITY INDEX']))"
   ]
  },
  {
   "cell_type": "code",
   "execution_count": 15,
   "metadata": {},
   "outputs": [
    {
     "data": {
      "text/plain": [
       "(0.35,\n",
       "    index        DATE  EQUITY INDEX MONTH       DATE1  GOLD1  CRUDE_INDEX\n",
       " 4      5  24-05-2019             1   MAY  11-07-2019   0.35         0.35)"
      ]
     },
     "execution_count": 15,
     "metadata": {},
     "output_type": "execute_result"
    }
   ],
   "source": [
    "min(file.groupby(['GOLD1']))"
   ]
  },
  {
   "cell_type": "code",
   "execution_count": 16,
   "metadata": {},
   "outputs": [
    {
     "data": {
      "text/plain": [
       "(0.35,\n",
       "    index        DATE  EQUITY INDEX MONTH       DATE1  GOLD1  CRUDE_INDEX\n",
       " 4      5  24-05-2019             1   MAY  11-07-2019   0.35         0.35)"
      ]
     },
     "execution_count": 16,
     "metadata": {},
     "output_type": "execute_result"
    }
   ],
   "source": [
    "min(file.groupby(['CRUDE_INDEX']))"
   ]
  },
  {
   "cell_type": "code",
   "execution_count": null,
   "metadata": {},
   "outputs": [],
   "source": []
  }
 ],
 "metadata": {
  "kernelspec": {
   "display_name": "Python 3",
   "language": "python",
   "name": "python3"
  },
  "language_info": {
   "codemirror_mode": {
    "name": "ipython",
    "version": 3
   },
   "file_extension": ".py",
   "mimetype": "text/x-python",
   "name": "python",
   "nbconvert_exporter": "python",
   "pygments_lexer": "ipython3",
   "version": "3.7.6"
  }
 },
 "nbformat": 4,
 "nbformat_minor": 4
}
